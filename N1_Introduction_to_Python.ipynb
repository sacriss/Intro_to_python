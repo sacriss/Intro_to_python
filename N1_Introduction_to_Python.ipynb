{
  "cells": [
    {
      "metadata": {
        "id": "Hr0Cuu6S_bjQ"
      },
      "cell_type": "markdown",
      "source": [
        "# Introduction to Python\n",
        "Python is a general purpose computer language that is **interpreted** and **high-level**. It was optimized for readibility and ease of writing. It isn't necessarily the fastest, but it is often \"fast enough\" for most applications. Python has a huge repository of extentions and tools which are easily found and installed, which makes it easy for non-experts to get started with.  In fact, it is now one of the most widely used programming languages in the world."
      ]
    },
    {
      "metadata": {
        "id": "vP_rjhcY_bjR"
      },
      "cell_type": "markdown",
      "source": [
        "You are looking at a notebook file, which allows for you to interact with code and run it in chunks. Execute the contents of a code \"cell\" by pressing `shift + return` on your keyboard, or pressing the play button on the top bar and in the Run menu. Try it below:"
      ]
    },
    {
      "metadata": {
        "_kg_hide-output": true,
        "trusted": true,
        "colab": {
          "base_uri": "https://localhost:8080/"
        },
        "id": "pA-mxr6f_bjS",
        "outputId": "418c6d4a-c6e2-4a60-85b3-7b313499f9be"
      },
      "cell_type": "code",
      "source": [
        "print(\"Hello, world!\")"
      ],
      "execution_count": null,
      "outputs": [
        {
          "output_type": "stream",
          "name": "stdout",
          "text": [
            "Hello, world!\n"
          ]
        }
      ]
    },
    {
      "metadata": {
        "id": "CFvdYmoo_bjV"
      },
      "cell_type": "markdown",
      "source": [
        "## 1. Data types\n",
        "\n",
        "Each language has a set of built in types that it knows how to handle.Variables are used to store information to be referenced and manipulated in a program.  The common types we'll use in Python are\n",
        "* **Numbers**\n",
        "* **Text**\n",
        "* **Boolean**\n",
        "\n",
        "Variables are used to store information to be referenced and manipulated in a program. You can give whatever name you want for your variable. But the best practice is to give a descriptive name of what it represents, so if someone else reads reads your code (or even if you read your code years later), it will be possible to understand the meaning of the variables that you declared."
      ]
    },
    {
      "cell_type": "markdown",
      "source": [
        "### Numbers"
      ],
      "metadata": {
        "id": "WQoxQOxvA-Al"
      }
    },
    {
      "metadata": {
        "trusted": true,
        "colab": {
          "base_uri": "https://localhost:8080/"
        },
        "id": "EFou-ErE_bjV",
        "outputId": "5349d745-80d4-45a7-efea-8c187d7bf7da"
      },
      "cell_type": "code",
      "source": [
        "# Integers\n",
        "a = 1 # I can declare a variable by using =\n",
        "b = -59\n",
        "c = 12\n",
        "d = a + b + c\n",
        "print(\"d = \"+ str(d)) # This is called 'string concatenation.' You can put strings together using the + operation. The str function converts objects into strings.\n",
        "print(\"Its type is \"+ str(type(d)))  # The type function returns the type of an object"
      ],
      "execution_count": null,
      "outputs": [
        {
          "output_type": "stream",
          "name": "stdout",
          "text": [
            "d = -46\n",
            "Its type is <class 'int'>\n"
          ]
        }
      ]
    },
    {
      "metadata": {
        "trusted": true,
        "colab": {
          "base_uri": "https://localhost:8080/"
        },
        "id": "1YR9h8RF_bjW",
        "outputId": "5babb005-9a64-4e1f-9573-ebc1362081cf"
      },
      "cell_type": "code",
      "source": [
        "# Floating point numbers (floats)\n",
        "a = 1.                             # Add a decimal after an integer to make it a float\n",
        "b = -59.23923                      # Floats can have high precision\n",
        "c = 1.2e3                          # Floats understand scientific notation. This is equivalent to 1.2x10^3, aka 1200\n",
        "d = a + b + c\n",
        "print(\"d = \"+str(d)) # Using str again to turn d into a string so that it can be combined with the string \"d = \"\n",
        "print(\"Its type is \"+str(type(d)))"
      ],
      "execution_count": null,
      "outputs": [
        {
          "output_type": "stream",
          "name": "stdout",
          "text": [
            "d = 1141.76077\n",
            "Its type is <class 'float'>\n"
          ]
        }
      ]
    },
    {
      "metadata": {
        "id": "kn1Wt9Ye_bjZ"
      },
      "cell_type": "markdown",
      "source": [
        "### Strings\n",
        "\n",
        "Strings are special lists of characters meant to hold text. They can appear wrapped in single or double quotes (`'` or `\"`). A backslash `\\` \"escapes\" a character within a string so that it isn't interpreted as code."
      ]
    },
    {
      "metadata": {
        "trusted": true,
        "id": "5VxRqJO2_bjZ"
      },
      "cell_type": "code",
      "source": [
        "string1 = \"This is a string\"            # double quotes\n",
        "string2 = 'This is another string'      # single quotes\n",
        "string3 = \"This isn't a problem\"        # single quote mark within double quotes\n",
        "string4 = 'Here\\'s another way to do it'# Escaped single within singles\n",
        "# string5 = 'This won't work.'\n",
        "print(string1)\n",
        "print(string2)"
      ],
      "execution_count": null,
      "outputs": []
    },
    {
      "metadata": {
        "id": "Rz2uTaTH_bjZ"
      },
      "cell_type": "markdown",
      "source": [
        "You can get the length of a string using len(), and you can access a particular character using square brackets to indicate location starting at 0. Negative indices are equivalent to length minus the positive index."
      ]
    },
    {
      "metadata": {
        "trusted": true,
        "id": "G0F834V7_bja"
      },
      "cell_type": "code",
      "source": [
        "a = \"Howdy!\"\n",
        "print(a[3])\n",
        "print(a[-3])\n",
        "print(len(a))"
      ],
      "execution_count": null,
      "outputs": []
    },
    {
      "metadata": {
        "id": "XlYjDLB1_bja"
      },
      "cell_type": "markdown",
      "source": [
        "#### String methods\n",
        "Many objects in Python have functions specific to them, called methods. These can be called with dot notation: `object.method()`. Examples for strings are given below:"
      ]
    },
    {
      "metadata": {
        "trusted": true,
        "id": "RsLSmN_P_bja"
      },
      "cell_type": "code",
      "source": [
        "b = \"I like Mary Lyon\"\n",
        "b.upper() # returns an uppercase version"
      ],
      "execution_count": null,
      "outputs": []
    },
    {
      "metadata": {
        "trusted": true,
        "id": "CeTL9t7R_bja"
      },
      "cell_type": "code",
      "source": [
        "b.index(\"Mary\") #returns the index of a string inside another"
      ],
      "execution_count": null,
      "outputs": []
    },
    {
      "metadata": {
        "trusted": true,
        "id": "TAMqQyx7_bja"
      },
      "cell_type": "code",
      "source": [
        "b.split() # returns a list of smaller strings.\n",
        "          # By default it splits on spaces, but you can also give it an input like b.split(\"y\")"
      ],
      "execution_count": null,
      "outputs": []
    },
    {
      "metadata": {
        "id": "_sQlA-vV_bjb"
      },
      "cell_type": "markdown",
      "source": [
        "#### String slicing\n",
        "More than one character can be extracted from a string using \"slices.\" The notation for these is `list[start:end:stepsize]`."
      ]
    },
    {
      "metadata": {
        "trusted": true,
        "id": "3wkktcd6_bjb",
        "outputId": "79ea3a80-fc27-42af-a8a1-986111cc1f2a",
        "colab": {
          "base_uri": "https://localhost:8080/"
        }
      },
      "cell_type": "code",
      "source": [
        "s = \"Howdy!\"\n",
        "print(s[1])   # Takes one character starting at 1\n",
        "print(s[4])   # Takes one character starting at 4\n",
        "print(s[1:4]) # Takes all the characters between 1 and 4\n",
        "print(s[3:])  # Takes all characters starting at 3 and going to the end\n",
        "print(s[:3])  # Takes all characters until reaching 3\n",
        "print(s[::2]) # Takes every other character\n",
        "print(s[::-1]) # Reverses the string"
      ],
      "execution_count": null,
      "outputs": [
        {
          "output_type": "stream",
          "name": "stdout",
          "text": [
            "o\n",
            "y\n",
            "owd\n",
            "dy!\n",
            "How\n",
            "Hwy\n",
            "!ydwoH\n"
          ]
        }
      ]
    },
    {
      "metadata": {
        "id": "nQm8t0yi_bjd"
      },
      "cell_type": "markdown",
      "source": [
        "### Booleans\n",
        "\n",
        "Python has a type dedicated to the True and False values, called boolean or bool for short. The only values possible are True and False (capital T and F). You can perform logical comparisons and get boolean values back. Comparisons include `and`, `or` , `not`, `>`, `<`, `>=`, `<=`, `==` (is equal to), and `!=` (not equal to). Look at each cell below, make a guess as to what it should return, and then run the cell. Did it agree with your guess?"
      ]
    },
    {
      "metadata": {
        "trusted": true,
        "collapsed": true,
        "id": "NsBx4VK8_bjd"
      },
      "cell_type": "code",
      "source": [
        "True and False"
      ],
      "execution_count": null,
      "outputs": []
    },
    {
      "metadata": {
        "trusted": true,
        "collapsed": true,
        "id": "KoD5b4ce_bjd"
      },
      "cell_type": "code",
      "source": [
        "False and False"
      ],
      "execution_count": null,
      "outputs": []
    },
    {
      "metadata": {
        "trusted": true,
        "collapsed": true,
        "id": "qZjI-zLB_bjd"
      },
      "cell_type": "code",
      "source": [
        "True or False"
      ],
      "execution_count": null,
      "outputs": []
    },
    {
      "metadata": {
        "trusted": true,
        "collapsed": true,
        "id": "5thUe8bT_bjd"
      },
      "cell_type": "code",
      "source": [
        "1 != 2"
      ],
      "execution_count": null,
      "outputs": []
    },
    {
      "metadata": {
        "trusted": true,
        "collapsed": true,
        "id": "9RxdyEQ4_bjd"
      },
      "cell_type": "code",
      "source": [
        "(1 != 2) and (5 > 5)"
      ],
      "execution_count": null,
      "outputs": []
    },
    {
      "cell_type": "markdown",
      "source": [
        "## 2. Data Structures\n",
        "\n",
        "A data structure is a way of organizing data so that it can be used, manipulated, and accessed by computer programs in an efficient way. There are many types of data structures, and the most adequate data structure to use in a given program depends highly on the characteristics of the problem at hand. This is a complex topic in computer science, and to simplify it for you we will approach only three data structures.\n",
        "\n",
        "* **Lists**\n",
        "* **Sets**\n",
        "* **Dictionaries**"
      ],
      "metadata": {
        "id": "1Ot8VHIPBsbu"
      }
    },
    {
      "metadata": {
        "id": "xfaPjwy-_bjc"
      },
      "cell_type": "markdown",
      "source": [
        "### Lists\n",
        "A list is a collection of elements where the order matters. You can access list elements either by using element values or by the indexes (the position of the element in the list, starting with 0). It is also possible to get 'slices' of a list. You can add elements to the list, delete elements, compare the list with other lists and so on."
      ]
    },
    {
      "cell_type": "code",
      "source": [
        "#example of list\n",
        "list_of_fruits = ['banana', 'watermelon', 'apple']\n",
        "print('These are the elements contained in the list_of_fruits list ',\n",
        "      list_of_fruits)"
      ],
      "metadata": {
        "colab": {
          "base_uri": "https://localhost:8080/"
        },
        "id": "1n-wTA_XFjG2",
        "outputId": "74a0ea82-033c-4c6c-9910-12c971558645"
      },
      "execution_count": null,
      "outputs": [
        {
          "output_type": "stream",
          "name": "stdout",
          "text": [
            "These are the elements contained in the list_of_fruits list  ['banana', 'watermelon', 'apple']\n"
          ]
        }
      ]
    },
    {
      "metadata": {
        "trusted": true,
        "id": "UkmeXqcE_bjc",
        "colab": {
          "base_uri": "https://localhost:8080/"
        },
        "outputId": "4c2e30d6-9279-42d1-e2cf-778f874f1f8e"
      },
      "cell_type": "code",
      "source": [
        "#get the first element of the list by index\n",
        "print('The value that is stored in the first position of the list is',\n",
        "      list_of_fruits[0])"
      ],
      "execution_count": null,
      "outputs": [
        {
          "output_type": "stream",
          "name": "stdout",
          "text": [
            "The value that is stored in the first position of the list is banana\n"
          ]
        }
      ]
    },
    {
      "metadata": {
        "trusted": true,
        "collapsed": true,
        "id": "zSeQsFgE_bjd",
        "colab": {
          "base_uri": "https://localhost:8080/"
        },
        "outputId": "b4d3a7ff-985b-4554-88e5-a0528973dd7b"
      },
      "cell_type": "code",
      "source": [
        "#get the index of an element by its value\n",
        "print('The index of the element banana in the list is',\n",
        "    list_of_fruits.index('banana'))"
      ],
      "execution_count": null,
      "outputs": [
        {
          "output_type": "stream",
          "name": "stdout",
          "text": [
            "The index of the element banana in the list is 0\n"
          ]
        }
      ]
    },
    {
      "cell_type": "code",
      "source": [
        "#add element to list at the last position using the function append()\n",
        "list_of_fruits.append('pineapple')\n",
        "print('The string pineapple was added in the last position', list_of_fruits)\n"
      ],
      "metadata": {
        "colab": {
          "base_uri": "https://localhost:8080/"
        },
        "id": "X0ZjJzJRF2-M",
        "outputId": "cc24f556-7f00-4f0a-fc07-caced9d250da"
      },
      "execution_count": null,
      "outputs": [
        {
          "output_type": "stream",
          "name": "stdout",
          "text": [
            "The string pineapple was added in the last position ['banana', 'watermelon', 'apple', 'pineapple']\n"
          ]
        }
      ]
    },
    {
      "cell_type": "code",
      "source": [
        "#insert element at index using the function insert()\n",
        "list_of_fruits.insert(1, 'kiwi')\n",
        "print('The string kiwi was added in the second position', list_of_fruits)"
      ],
      "metadata": {
        "colab": {
          "base_uri": "https://localhost:8080/"
        },
        "id": "KjUKxXJVF5v5",
        "outputId": "9cf4baa3-6f48-4377-a7ea-d576b403c8ea"
      },
      "execution_count": null,
      "outputs": [
        {
          "output_type": "stream",
          "name": "stdout",
          "text": [
            "The string kiwi was added in the second position ['banana', 'kiwi', 'watermelon', 'apple', 'pineapple']\n"
          ]
        }
      ]
    },
    {
      "cell_type": "code",
      "source": [
        "#remove element from list\n",
        "list_of_fruits.remove('watermelon')\n",
        "print('The string watermelon was removed', list_of_fruits)"
      ],
      "metadata": {
        "colab": {
          "base_uri": "https://localhost:8080/"
        },
        "id": "ZRkukr8qF71z",
        "outputId": "a7f22940-89e2-4fca-bfc7-00dbc07dc8e3"
      },
      "execution_count": null,
      "outputs": [
        {
          "output_type": "stream",
          "name": "stdout",
          "text": [
            "The string watermelon was removed ['banana', 'kiwi', 'apple', 'pineapple']\n"
          ]
        }
      ]
    },
    {
      "cell_type": "code",
      "source": [
        "#remove element from list by its index\n",
        "list_of_fruits.pop(0)\n",
        "print('The string in position 0 was removed', list_of_fruits)"
      ],
      "metadata": {
        "colab": {
          "base_uri": "https://localhost:8080/"
        },
        "id": "i58OPcQSGBGG",
        "outputId": "dcbcbb16-5647-4f78-dc40-95b85f586fa8"
      },
      "execution_count": null,
      "outputs": [
        {
          "output_type": "stream",
          "name": "stdout",
          "text": [
            "The string watermelon was removed ['kiwi', 'apple', 'pineapple']\n"
          ]
        }
      ]
    },
    {
      "cell_type": "markdown",
      "source": [
        "### Sets\n",
        "A set is a collection of elements where the order does not matter. Sets also don't have indexes. Like in lists, you can add elements to the set, delete elements, compare the set with other sets, compute the union and the intersection of sets, and so on."
      ],
      "metadata": {
        "id": "u5cKBuufD5t1"
      }
    },
    {
      "cell_type": "code",
      "source": [
        "#example of set\n",
        "first_set_of_fruits = {'banana', 'watermelon', 'apple'}\n",
        "second_set_of_fruits = {'orange', 'banana', 'pomegranate'}"
      ],
      "metadata": {
        "id": "aM2K2zyqD_1_"
      },
      "execution_count": null,
      "outputs": []
    },
    {
      "cell_type": "code",
      "source": [
        "#add element to set\n",
        "first_set_of_fruits.add('kiwi')\n",
        "print(first_set_of_fruits)"
      ],
      "metadata": {
        "id": "3e7AtHYaGJZf"
      },
      "execution_count": null,
      "outputs": []
    },
    {
      "cell_type": "code",
      "source": [
        "#union of sets\n",
        "print(first_set_of_fruits.union(second_set_of_fruits))"
      ],
      "metadata": {
        "id": "rJrXQjd0GLLB"
      },
      "execution_count": null,
      "outputs": []
    },
    {
      "cell_type": "code",
      "source": [
        "#intersection of sets\n",
        "print(first_set_of_fruits.intersection(second_set_of_fruits))"
      ],
      "metadata": {
        "id": "Hu_3m9ZZGMsT"
      },
      "execution_count": null,
      "outputs": []
    },
    {
      "cell_type": "code",
      "source": [
        "#difference of sets\n",
        "print(first_set_of_fruits.difference(second_set_of_fruits))\n",
        "print(second_set_of_fruits.difference(first_set_of_fruits))"
      ],
      "metadata": {
        "id": "5Da0aUjyGORf"
      },
      "execution_count": null,
      "outputs": []
    },
    {
      "cell_type": "code",
      "source": [
        "#remove element from set\n",
        "first_set_of_fruits.remove('apple')\n",
        "print(first_set_of_fruits)"
      ],
      "metadata": {
        "id": "QE2XlHtTGPu3"
      },
      "execution_count": null,
      "outputs": []
    },
    {
      "cell_type": "markdown",
      "source": [
        "### Dictionaries\n",
        "A dictionary is used to store data values in the form of key:value pairs. It is a collection where the order does not matter and does not allow duplicates of key:value pairs. You can add values to a dictionary, update or remove existing values. You can see the keys of a dictionary by using the function keys() and the values by using the function values()"
      ],
      "metadata": {
        "id": "FuBjRghWGWYK"
      }
    },
    {
      "cell_type": "code",
      "source": [
        "#You can first create an empyt dictionary and then add elements to it\n",
        "#or create the dictionary with the elements already\n",
        "prices_of_grocery = dict()\n",
        "prices_of_grocery['eggs'] = 2\n",
        "prices_of_grocery['bread'] = 1\n",
        "\n",
        "prices_of_grocery2 = {'eggs':2, 'bread':1}\n",
        "\n",
        "#the result is the same\n",
        "print(prices_of_grocery, prices_of_grocery2)"
      ],
      "metadata": {
        "id": "PvvmKsvcGhye",
        "outputId": "aa1733e4-1c82-4f6a-9b69-a60fdb56b77a",
        "colab": {
          "base_uri": "https://localhost:8080/"
        }
      },
      "execution_count": null,
      "outputs": [
        {
          "output_type": "stream",
          "name": "stdout",
          "text": [
            "{'eggs': 2, 'bread': 1} {'eggs': 2, 'bread': 1}\n"
          ]
        }
      ]
    },
    {
      "cell_type": "code",
      "source": [
        "#See dictionary keys\n",
        "print(prices_of_grocery.keys())\n",
        "\n",
        "#See dictionary values\n",
        "print(prices_of_grocery.values())"
      ],
      "metadata": {
        "colab": {
          "base_uri": "https://localhost:8080/"
        },
        "id": "qDIni0EvGsWr",
        "outputId": "7e98ec28-f2fc-4139-96a3-5b629432b191"
      },
      "execution_count": null,
      "outputs": [
        {
          "output_type": "stream",
          "name": "stdout",
          "text": [
            "dict_keys(['eggs', 'bread'])\n",
            "dict_values([2, 1])\n",
            "{'eggs': 2, 'bread': 1} {'eggs': 2, 'bread': 1}\n"
          ]
        }
      ]
    },
    {
      "cell_type": "code",
      "source": [
        "#update the value of an entry in the dictionary\n",
        "prices_of_grocery['eggs'] = 1.5\n",
        "print(prices_of_grocery)"
      ],
      "metadata": {
        "colab": {
          "base_uri": "https://localhost:8080/"
        },
        "id": "DvxJIVjpGxKi",
        "outputId": "eb06b03a-9f96-4040-f3a1-6c269f1c734f"
      },
      "execution_count": null,
      "outputs": [
        {
          "output_type": "stream",
          "name": "stdout",
          "text": [
            "{'eggs': 1.5, 'bread': 1}\n"
          ]
        }
      ]
    },
    {
      "cell_type": "code",
      "source": [
        "#delete dictionary entry\n",
        "del prices_of_grocery['bread']\n",
        "print(prices_of_grocery)"
      ],
      "metadata": {
        "id": "P4qstKv9G0l2"
      },
      "execution_count": null,
      "outputs": []
    },
    {
      "cell_type": "markdown",
      "source": [
        "## 3. Operators\n",
        "\n",
        "Of couse variables are useful only if you can do something with them! For that, we use operators. Here are some operators that will be useful for you (there are more operators than that), execute the code below to see the examples of the operations."
      ],
      "metadata": {
        "id": "mw1cRSi0B-Va"
      }
    },
    {
      "cell_type": "markdown",
      "source": [
        "### Aritmetic operators\n",
        "*   Addition: adds the values of two variables (+)\n",
        "*   Subtraction: subtracts the values of two variables (-)\n",
        "*   Multiplication: multiplies the values of two variables (*)\n",
        "*   Division: divides the values of two variables (/)"
      ],
      "metadata": {
        "id": "K0Vd8lXhJS3b"
      }
    },
    {
      "cell_type": "code",
      "source": [
        "money_to_buy_eggs = 2.5\n",
        "money_to_buy_apples = 1.3\n",
        "print('money_to_buy_eggs + money_to_buy_apples results in', money_to_buy_eggs + money_to_buy_apples, '\\n')\n",
        "print('money_to_buy_eggs - money_to_buy_apples results in', money_to_buy_eggs - money_to_buy_apples, '\\n')\n",
        "print('money_to_buy_eggs * money_to_buy_apples results in', money_to_buy_eggs * money_to_buy_apples, '\\n')\n",
        "print('money_to_buy_eggs / money_to_buy_apples results in', money_to_buy_eggs / money_to_buy_apples, '\\n')"
      ],
      "metadata": {
        "colab": {
          "base_uri": "https://localhost:8080/"
        },
        "id": "rL_cuBT0JouT",
        "outputId": "da420792-48ce-42d4-c307-5fca87e807cb"
      },
      "execution_count": null,
      "outputs": [
        {
          "output_type": "stream",
          "name": "stdout",
          "text": [
            "money_to_buy_eggs + money_to_buy_apples results in 3.8 \n",
            "\n",
            "money_to_buy_eggs - money_to_buy_apples results in 1.2 \n",
            "\n",
            "money_to_buy_eggs * money_to_buy_apples results in 3.25 \n",
            "\n",
            "money_to_buy_eggs / money_to_buy_apples results in 1.923076923076923 \n",
            "\n",
            "money_to_buy_eggs > money_to_buy_apples is True because 2.5 > 1.3 \n",
            "\n",
            "money_to_buy_eggs < money_to_buy_apples is False because 2.5 is not less than 1.3 \n",
            "\n",
            "money_to_buy_eggs > money_to_buy_apples is True \n",
            "\n",
            "money_to_buy_eggs <= money_to_buy_apples is False \n",
            "\n",
            "money_to_buy_eggs >= money_to_buy_apples is True \n",
            "\n",
            "money_to_buy_eggs == money_to_buy_apples is False \n",
            "\n",
            "money_to_buy_eggs != money_to_buy_apples is True \n",
            "\n"
          ]
        }
      ]
    },
    {
      "cell_type": "markdown",
      "source": [
        "### Assignment operators\n",
        "*   Attribution: assigns a value to a variable (=)"
      ],
      "metadata": {
        "id": "5K-gY2wzI-I7"
      }
    },
    {
      "cell_type": "code",
      "source": [
        "fruit='banana'\n",
        "print('The value stored in the variable fruit is',fruit, '\\n')\n",
        "\n",
        "another_fruit='watermelon'\n",
        "yet_another_fruit = 'banana'\n",
        "\n",
        "print('The value of the operation fruit == another_fruit is', fruit == another_fruit, 'because banana and watermelon are two different values.\\n')\n",
        "print('The value of the operation fruit == yet_another_fruit is', fruit == yet_another_fruit, 'because the two variables store the value \\'banana\\'.\\n')"
      ],
      "metadata": {
        "colab": {
          "base_uri": "https://localhost:8080/"
        },
        "id": "HLcp_rUHJ2FX",
        "outputId": "6f6dedb5-b1b2-4ed7-d51b-6a2ecd144c4d"
      },
      "execution_count": null,
      "outputs": [
        {
          "output_type": "stream",
          "name": "stdout",
          "text": [
            "The value stored in the variable fruit is banana \n",
            "\n",
            "The value of the operation fruit == another_fruit is False because banana and watermelon are two different values.\n",
            "\n",
            "The value of the operation fruit == yet_another_fruit is True because the two variables store the value 'banana'.\n",
            "\n"
          ]
        }
      ]
    },
    {
      "cell_type": "markdown",
      "source": [
        "### Membership Operators\n",
        "*   in: true only if the value is present in the data structure\n",
        "*   not in: true only if the value is not present in the data structure"
      ],
      "metadata": {
        "id": "kYiZRikuJBYH"
      }
    },
    {
      "cell_type": "code",
      "source": [
        "words_related_to_computers = ['mouse', 'keyboard', 'screen', 'cpu']\n",
        "\n",
        "#check if element is in list\n",
        "print('cpu' in words_related_to_computers, ': because \\'cpu\\' is in the list.\\n')\n",
        "print('key' in words_related_to_computers, ': because \\'key\\' is in not the list.\\n')\n"
      ],
      "metadata": {
        "colab": {
          "base_uri": "https://localhost:8080/"
        },
        "id": "MOxwoa-gJ5sT",
        "outputId": "81a1cb79-b221-4005-8eb7-2635152eb8a3"
      },
      "execution_count": null,
      "outputs": [
        {
          "output_type": "stream",
          "name": "stdout",
          "text": [
            "True : because 'cpu' is in the list.\n",
            "\n",
            "False : because 'key' is in not the list.\n",
            "\n"
          ]
        }
      ]
    },
    {
      "cell_type": "markdown",
      "source": [
        "### Comparison operators\n",
        "*   Equality: check if the values of two given variables are equal (==)\n",
        "*   Difference: check if the values of two given variables are different (!=)\n",
        "*   Greater than: check if the value of one given variable is greater than the other (>)\n",
        "*   Less than: check if the value of one given variable is less than the other (<)\n",
        "*   Greater or equal than: check if the value of one given variable is greater or equal than the other (>=)\n",
        "*   Less or equal than: check if the value of one given variable is less or equal than the other (<=)"
      ],
      "metadata": {
        "id": "4N8l6LsyJJLY"
      }
    },
    {
      "cell_type": "code",
      "source": [
        "print('money_to_buy_eggs > money_to_buy_apples is', money_to_buy_eggs > money_to_buy_apples, 'because 2.5 > 1.3 \\n')\n",
        "print('money_to_buy_eggs < money_to_buy_apples is', money_to_buy_eggs < money_to_buy_apples, 'because 2.5 is not less than 1.3 \\n')\n",
        "print('money_to_buy_eggs > money_to_buy_apples is', money_to_buy_eggs > money_to_buy_apples, '\\n')\n",
        "print('money_to_buy_eggs <= money_to_buy_apples is', money_to_buy_eggs <= money_to_buy_apples, '\\n')\n",
        "print('money_to_buy_eggs >= money_to_buy_apples is', money_to_buy_eggs >= money_to_buy_apples, '\\n')\n",
        "print('money_to_buy_eggs == money_to_buy_apples is', money_to_buy_eggs == money_to_buy_apples, '\\n')\n",
        "print('money_to_buy_eggs != money_to_buy_apples is', money_to_buy_eggs != money_to_buy_apples, '\\n')"
      ],
      "metadata": {
        "id": "asmBxjVFKWNN"
      },
      "execution_count": null,
      "outputs": []
    },
    {
      "cell_type": "code",
      "source": [
        "# When working with text, it is important to lowercase the words\n",
        "print(\"banana\" == \"Banana\")\n",
        "print(\"banana\" == \"Banana\".lower()) #You can use the .lower() method"
      ],
      "metadata": {
        "colab": {
          "base_uri": "https://localhost:8080/"
        },
        "id": "66OKUxoRStwB",
        "outputId": "0bb572fa-7a4b-44b5-b2fa-833040acc2cd"
      },
      "execution_count": null,
      "outputs": [
        {
          "output_type": "stream",
          "name": "stdout",
          "text": [
            "False\n",
            "True\n"
          ]
        }
      ]
    },
    {
      "cell_type": "markdown",
      "source": [
        "### Logical operators (also known as boolean operators)\n",
        "*   and: true only if the two statements are true\n",
        "*   or: true if at least one the two statements are true\n",
        "*   not: reverse the result. (e.g, returns false if the result is true)"
      ],
      "metadata": {
        "id": "EcYaFeZZJLO-"
      }
    },
    {
      "cell_type": "code",
      "source": [
        "my_age=28\n",
        "your_age=22\n",
        "\n",
        "print('my_age >= 18 and your_age >= 18 is', my_age >= 18 and your_age >= 18, 'because the values are both above 18. \\n')\n",
        "\n",
        "print('my_age >= 23 or your_age >= 23 is', my_age >= 23 or your_age >= 23, 'because only one of the values has to be equal or greater than 23. \\n')"
      ],
      "metadata": {
        "colab": {
          "base_uri": "https://localhost:8080/"
        },
        "id": "zKhILjduKfRu",
        "outputId": "a7fcafbe-222a-432f-eb62-69f76ec32226"
      },
      "execution_count": null,
      "outputs": [
        {
          "output_type": "stream",
          "name": "stdout",
          "text": [
            "my_age >= 18 and your_age >= 18 is True because the values are both above 18. \n",
            "\n",
            "my_age >= 23 or your_age >= 23 is True because only one of the values has to be equal or greater than 23. \n",
            "\n"
          ]
        }
      ]
    },
    {
      "cell_type": "code",
      "source": [
        "#Inversing the value of comparison.\n",
        "print('not my_age >= 18 is', not my_age >= 18, '\\n')"
      ],
      "metadata": {
        "colab": {
          "base_uri": "https://localhost:8080/"
        },
        "id": "p60UyRVWKulP",
        "outputId": "eb7c84c1-c70f-4bb2-9539-155cd092c648"
      },
      "execution_count": null,
      "outputs": [
        {
          "output_type": "stream",
          "name": "stdout",
          "text": [
            "not my_age >= 18 is False \n",
            "\n"
          ]
        }
      ]
    },
    {
      "cell_type": "markdown",
      "source": [
        "## 4. Control Structures\n",
        "In programming languages, in order to manipulate data, test statements, iterate through values, etc, we use control structures.\n",
        "There are two main types of control strutures you will use during this couse: **if-else (conditional) statements** and **loops**."
      ],
      "metadata": {
        "id": "jgnK_2TVHl-M"
      }
    },
    {
      "cell_type": "markdown",
      "source": [
        "### Conditional statements\n",
        "As seen the previous notebook, Python supports the use of logical conditions between variables and data structures (e.g, >, <, ==, !=, and, or, etc).\n",
        "Conditional statements, (also known as selection structures) can help us test logical conditions or statements, by using the keywords **if**, **elif** and **else**.\n",
        "\n",
        "*  An \"if statement\" is written by using the if keyword, followed by the statement\n",
        "*  The elif keyword is a way of saying \"if the previous conditions were not true, then try this condition\"\n",
        "*  The else keyword catches anything which isn't caught by the preceding conditions.\n"
      ],
      "metadata": {
        "id": "CIhbF1VsHuJ2"
      }
    },
    {
      "cell_type": "code",
      "source": [
        "### Examples of conditional statements ###\n",
        "banana = 'banana'\n",
        "apple = 'apple'\n",
        "\n",
        "#Testing equality of variables\n",
        "if banana==apple:\n",
        "  print('The variables banana and apple have the same value')\n",
        "else:\n",
        "  print('The variables banana and apple do not have the same value')"
      ],
      "metadata": {
        "id": "Dl_hYBMsHm8q"
      },
      "execution_count": null,
      "outputs": []
    },
    {
      "cell_type": "code",
      "source": [
        "#It also works the same way to test the difference\n",
        "if banana!=apple:\n",
        "  print('The variables banana and apple do not have the same value')\n",
        "else:\n",
        "  print('The variables banana and apple have the same value')"
      ],
      "metadata": {
        "id": "Xr3hCaasIB0M"
      },
      "execution_count": null,
      "outputs": []
    },
    {
      "cell_type": "code",
      "source": [
        "carmen_height=1.65\n",
        "mariana_height=1.55\n",
        "\n",
        "if carmen_height > mariana_height:\n",
        "  print('Carmen is the taller than Mariana.')\n",
        "elif carmen_height < mariana_height:\n",
        "  print('Mariana is the taller than Carmen.')\n",
        "else:\n",
        "  print('Mariana and Carmen have the same height.')"
      ],
      "metadata": {
        "id": "1ZytiN0bIGL6"
      },
      "execution_count": null,
      "outputs": []
    },
    {
      "cell_type": "code",
      "source": [
        "#Testing membership. Since we are not using elif and else, all conditions will be tested.\n",
        "books_written_by_tolkien = ['Lord of the rings', 'Silmarillion', 'Hobbit']\n",
        "if 'Lord of the rings' in books_written_by_tolkien:\n",
        "  print('Lord of the rings was a book written by Tolkien')\n",
        "if 'Silmarillion' in books_written_by_tolkien:\n",
        "  print('Silmarillion was also a book written by Tolkien')\n",
        "if 'Hobbit' in books_written_by_tolkien:\n",
        "  print('Hobbit was also a book written by Tolkien')"
      ],
      "metadata": {
        "id": "eE2VYXMIIIpb"
      },
      "execution_count": null,
      "outputs": []
    },
    {
      "cell_type": "code",
      "source": [
        "#Testing the three statements simultaneously by combining the statements with the logical operator and\n",
        "if 'Lord of the rings' in books_written_by_tolkien and 'Hobbit' in books_written_by_tolkien and 'Silmarillion' in books_written_by_tolkien:\n",
        "  print('all these books were written by Tolkien')\n",
        "#Remember that if we use the operator 'or', at least one of the statements has to be true.\n",
        "if 'Lord of the rings' in books_written_by_tolkien or 'Alice in Wonderland' in books_written_by_tolkien or 'Carandiru' in books_written_by_tolkien:\n",
        "  print('At least one of these books was written by Tolkien')"
      ],
      "metadata": {
        "id": "rB7vr-pxILf7"
      },
      "execution_count": null,
      "outputs": []
    },
    {
      "cell_type": "markdown",
      "source": [
        "### Loops\n",
        "A loop is a way of iterating through data strutures (e.g., lists, dictionaries). Generally, to iterate trought the data until a certain condition is satisfied, use the keyword **while**. Otherwise use the keyword **for**.\n",
        "\n",
        "To use the for loop without accounting for the indexes, use the structure:\n",
        "**for** element **in** list.\n",
        "It is possible to use auxiliary functions like 'enumerate()' to access both the list elements and the indexes of the elements, for this use the structure:\n",
        "**for** index, element **in** enumerate(list).\n",
        "\n",
        "For while loops, simply use the structure:\n",
        "**while** condition."
      ],
      "metadata": {
        "id": "pB_ZPj85IOcf"
      }
    },
    {
      "cell_type": "markdown",
      "source": [
        "#### For loops"
      ],
      "metadata": {
        "id": "mdQCn6WaK3rq"
      }
    },
    {
      "cell_type": "code",
      "source": [
        "fruits = ['apple', 'banana', 'orange']\n",
        "#iterate through the list printing the values stored in it\n",
        "for fruit in fruits:\n",
        "  print(fruit)"
      ],
      "metadata": {
        "colab": {
          "base_uri": "https://localhost:8080/"
        },
        "id": "Ccgv-SkTLWVp",
        "outputId": "afd8a607-bfba-416e-9044-0d1a3ad489b5"
      },
      "execution_count": null,
      "outputs": [
        {
          "output_type": "stream",
          "name": "stdout",
          "text": [
            "apple\n",
            "banana\n",
            "orange\n"
          ]
        }
      ]
    },
    {
      "cell_type": "code",
      "source": [
        "#iterate through the list printing the values stored in it along with the indexes\n",
        "for i, fruit in enumerate(fruits):\n",
        "  print(i, fruit)"
      ],
      "metadata": {
        "colab": {
          "base_uri": "https://localhost:8080/"
        },
        "id": "dPc_yG9XLYNZ",
        "outputId": "6333c129-b22f-40a9-f8b8-aadad68879c7"
      },
      "execution_count": null,
      "outputs": [
        {
          "output_type": "stream",
          "name": "stdout",
          "text": [
            "0 apple\n",
            "1 banana\n",
            "2 orange\n"
          ]
        }
      ]
    },
    {
      "cell_type": "code",
      "source": [
        "#We can combine loops with conditionals\n",
        "imdb_ratings = [8, 7, 6, 7.5, 5, 9]\n",
        "for rating in imdb_ratings:\n",
        "  if rating >= 8:\n",
        "    print('The IMDB for this movie is', rating, 'so perhaps it is a good movie.')\n",
        "  elif rating < 8 and rating >= 7:\n",
        "    print('The IMDB for this movie is', rating, 'so perhaps it is an okayish movie.')\n",
        "  else:\n",
        "    print('The IMDB for this movie is', rating, 'so perhaps it is a bad movie.')"
      ],
      "metadata": {
        "id": "VK3udGe8LiD3"
      },
      "execution_count": null,
      "outputs": []
    },
    {
      "cell_type": "markdown",
      "source": [
        "#### While loops"
      ],
      "metadata": {
        "id": "61QuSadDK9Fb"
      }
    },
    {
      "cell_type": "code",
      "source": [
        "price_of_grocery_items = [1, 2.5, 5, 2, 8.5, 4, 3]\n",
        "total_money_for_groceries = 10\n",
        "\n",
        "#The variable item will auxiliate us to access the elements in the list\n",
        "#price_of_grocery_items. Remember that the first element has the index=0\n",
        "item=0\n",
        "\n",
        "while total_money_for_groceries > 0:\n",
        "  item_bought=price_of_grocery_items[item]\n",
        "  total_money_for_groceries = total_money_for_groceries-item_bought\n",
        "  print('I bought an item that costs', item_bought, 'euros. Now I have',total_money_for_groceries, 'euros.')\n",
        "  #Now we increment the value of the variable item, so we access the value of the next element in the list\n",
        "  item=item+1\n",
        "\n",
        "#Notice that since after we buy the fourth item (value 2), I have no money anymore.\n",
        "#Since the value of the total_money_for_groceries is less than 0, the loop ends because the\n",
        "#condition total_money_for_groceries > 0 is not True anymore.\n",
        "\n"
      ],
      "metadata": {
        "colab": {
          "base_uri": "https://localhost:8080/"
        },
        "id": "8zVZ4plWIQ4z",
        "outputId": "3d9029bc-0bf7-4ec5-8670-1989bda666e5"
      },
      "execution_count": null,
      "outputs": [
        {
          "output_type": "stream",
          "name": "stdout",
          "text": [
            "I bought an item that costs 1 euros. Now I have 9 euros.\n",
            "I bought an item that costs 2.5 euros. Now I have 6.5 euros.\n",
            "I bought an item that costs 5 euros. Now I have 1.5 euros.\n",
            "I bought an item that costs 2 euros. Now I have -0.5 euros.\n"
          ]
        }
      ]
    },
    {
      "cell_type": "markdown",
      "source": [
        "## 5. Functions\n",
        "A function is a block of code that only runs when it is called. Programming languages have many native functions (functions that come with the language) and you will use a lot of these (e.g., functions print(), len()), but you can create your own functions.\n",
        "\n",
        "It is best practice that a function implements a well-defined task (e.g., computing the average of  numbers in a list, getting the longest word in a dictionary).  \n",
        "\n",
        "A function has:\n",
        "*   signature: the name of the function\n",
        "*   parameters: values that you pass to the function so it can perform the necessary calculations. Can be empty if no parameter is needed\n",
        "\n",
        "You can't define two given functions with the same signature and parameters.\n",
        "\n",
        "Usually a function returns a value that is the output of the calculations. for that we use the keyword **return**.\n",
        "To define a function you use the keyword **def**.\n",
        "\n",
        "You can also use the functions of auxiliary libraries, like [NLTK](https://www.nltk.org/) which you will see during this course."
      ],
      "metadata": {
        "id": "F9yeKqgsMNj1"
      }
    },
    {
      "cell_type": "code",
      "source": [
        "def get_longest_word_in_list(list_of_words):\n",
        "  #initally, we create a dummy value with minimum value for a string\n",
        "  #an empty string has lenght=0\n",
        "  longest_word = ''\n",
        "  for word in list_of_words:\n",
        "    #len() is a function that outputs the size of its parameter\n",
        "    #(a list, the number of characters in a word, etc)\n",
        "    if len(word)>len(longest_word):\n",
        "      longest_word = word\n",
        "\n",
        "  return longest_word\n",
        "\n",
        "\n",
        "animals = ['cat', 'dog', 'arara', 'chicken', 'elephant', 'giraffe', 'platypus']\n",
        "food= ['bread', 'tomato', 'cheese', 'cabbage', 'pineapple']\n",
        "longest_word = get_longest_word_in_list(animals)\n",
        "print('The longest word on the list passed as parameter is', longest_word)\n",
        "longest_word = get_longest_word_in_list(food)\n",
        "print('The longest word on the list passed as parameter is', longest_word)"
      ],
      "metadata": {
        "colab": {
          "base_uri": "https://localhost:8080/"
        },
        "id": "S50c9qbTMoQF",
        "outputId": "30ea861f-f91b-4c33-c716-cb537451733c"
      },
      "execution_count": null,
      "outputs": [
        {
          "output_type": "stream",
          "name": "stdout",
          "text": [
            "The longest word on the list passed as parameter is elephant\n",
            "The longest word on the list passed as parameter is pineapple\n"
          ]
        }
      ]
    },
    {
      "cell_type": "code",
      "source": [
        "#Lets implement a function that receives as input a text (a string) and outputs\n",
        "#a dictionary that says how many characters each word has.\n",
        "def count_number_of_characters(text):\n",
        "  counts=dict()\n",
        "  #split() is a function that splits a string on the symbol used as parameter\n",
        "  #here we are using the blank space, so we get the words.\n",
        "  #Of course if our text had punctuation or multiword expressions this wouldn't\n",
        "  #work well\n",
        "  split_text = text.split(' ')\n",
        "  for word in split_text:\n",
        "    if word not in counts.keys():\n",
        "      counts[word] = len(word)\n",
        "  return counts\n",
        "\n",
        "text = 'Tras tres tragos y otros tres y otros tres tras los tres tragos'\n",
        "other_text = 'Doña Panchívida se cortó un dévido con el cuchívido del zapatévido'\n",
        "counts_text = count_number_of_characters(text)\n",
        "print(counts_text)\n",
        "counts_other_text = count_number_of_characters(other_text)\n",
        "print(counts_other_text)"
      ],
      "metadata": {
        "colab": {
          "base_uri": "https://localhost:8080/"
        },
        "id": "L3Fo8x7SND-W",
        "outputId": "0a2a8745-1197-45a2-8547-55c953c00bf4"
      },
      "execution_count": null,
      "outputs": [
        {
          "output_type": "stream",
          "name": "stdout",
          "text": [
            "{'Tras': 4, 'tres': 4, 'tragos': 6, 'y': 1, 'otros': 5, 'tras': 4, 'los': 3}\n",
            "{'Doña': 4, 'Panchívida': 10, 'se': 2, 'cortó': 5, 'un': 2, 'dévido': 6, 'con': 3, 'el': 2, 'cuchívido': 9, 'del': 3, 'zapatévido': 10}\n"
          ]
        }
      ]
    },
    {
      "cell_type": "code",
      "source": [
        "#now lets alter the function so it receives a list instead of a single string.\n",
        "#(a list that stores sentences and each sentence is an element in the list).\n",
        "#to avoid that same strings with uppercase/lowercase differences are counted\n",
        "#twice, (for instance, 'a' and 'A')\n",
        "#we'll pass the sentence to lowercase by using the function lower()\n",
        "def count_number_of_characters(sentences):\n",
        "  counts=dict()\n",
        "  for sentence in sentences:\n",
        "    sentence = sentence.lower()\n",
        "    split_text = sentence.split(' ')\n",
        "    for word in split_text:\n",
        "      if word not in counts.keys():\n",
        "        counts[word] = len(word)\n",
        "  return counts\n",
        "\n",
        "\n",
        "sentences = ['No man is an island', 'Entire of itself',\n",
        "'Every man is a piece of the continent','A part of the main']\n",
        "counts = count_number_of_characters(sentences)\n",
        "print(counts)"
      ],
      "metadata": {
        "colab": {
          "base_uri": "https://localhost:8080/"
        },
        "id": "b3IIaUBLNM1x",
        "outputId": "20370e36-4a2f-419f-da2b-66d10b8498a4"
      },
      "execution_count": null,
      "outputs": [
        {
          "output_type": "stream",
          "name": "stdout",
          "text": [
            "{'no': 2, 'man': 3, 'is': 2, 'an': 2, 'island': 6, 'entire': 6, 'of': 2, 'itself': 6, 'every': 5, 'a': 1, 'piece': 5, 'the': 3, 'continent': 9, 'part': 4, 'main': 4}\n"
          ]
        }
      ]
    }
  ],
  "metadata": {
    "kernelspec": {
      "name": "python3",
      "display_name": "Python 3",
      "language": "python"
    },
    "language_info": {
      "name": "python",
      "version": "3.7.6",
      "mimetype": "text/x-python",
      "codemirror_mode": {
        "name": "ipython",
        "version": 3
      },
      "pygments_lexer": "ipython3",
      "nbconvert_exporter": "python",
      "file_extension": ".py"
    },
    "colab": {
      "provenance": [],
      "toc_visible": true
    }
  },
  "nbformat": 4,
  "nbformat_minor": 0
}